{
 "cells": [
  {
   "cell_type": "code",
   "execution_count": 1,
   "id": "75cefb78",
   "metadata": {},
   "outputs": [
    {
     "name": "stdout",
     "output_type": "stream",
     "text": [
      "Collecting simpy\n",
      "  Downloading simpy-4.0.2-py2.py3-none-any.whl (30 kB)\n",
      "Installing collected packages: simpy\n",
      "Successfully installed simpy-4.0.2\n",
      "Note: you may need to restart the kernel to use updated packages.\n"
     ]
    }
   ],
   "source": [
    "pip install simpy"
   ]
  },
  {
   "cell_type": "code",
   "execution_count": 9,
   "id": "f6385e7a",
   "metadata": {},
   "outputs": [],
   "source": [
    "def car(env):\n",
    "    while True:\n",
    "        print('start parking at %d' % env.now)\n",
    "        parking_duration = 5\n",
    "        yield env.timeout(parking_duration)\n",
    "        \n",
    "        print('start driving at %d' % env.now)\n",
    "        trip_duration = 2\n",
    "        yield env.timeout(trip_duration)\n",
    "    "
   ]
  },
  {
   "cell_type": "code",
   "execution_count": 10,
   "id": "2e8529d4",
   "metadata": {},
   "outputs": [],
   "source": [
    "import simpy"
   ]
  },
  {
   "cell_type": "code",
   "execution_count": 18,
   "id": "d7669ea9",
   "metadata": {},
   "outputs": [
    {
     "data": {
      "text/plain": [
       "<Process(car) object at 0x7fb6a2cb0bd0>"
      ]
     },
     "execution_count": 18,
     "metadata": {},
     "output_type": "execute_result"
    }
   ],
   "source": [
    "env = simpy.Environment()\n",
    "env.process(car(env))"
   ]
  },
  {
   "cell_type": "code",
   "execution_count": 19,
   "id": "118c0c2d",
   "metadata": {},
   "outputs": [
    {
     "name": "stdout",
     "output_type": "stream",
     "text": [
      "start parking at 0\n",
      "start driving at 5\n",
      "start parking at 7\n",
      "start driving at 12\n",
      "start parking at 14\n"
     ]
    }
   ],
   "source": [
    "env.run(until=15)"
   ]
  },
  {
   "cell_type": "code",
   "execution_count": 20,
   "id": "bd1f8a97",
   "metadata": {},
   "outputs": [],
   "source": [
    "class Car(object):\n",
    "    def __init__(self, env):\n",
    "        self.env = env\n",
    "        # Start the run process everytime an instance is created.\n",
    "        self.action = env.process(self.run())\n",
    "\n",
    "    def run(self):\n",
    "        while True:\n",
    "            print('Start parking and charging at %d' % self.env.now)\n",
    "            charge_duration = 5\n",
    "            # We yield the process that process() returns\n",
    "            # to wait for it to finish\n",
    "            yield self.env.process(self.charge(charge_duration))\n",
    "\n",
    "            # The charge process has finished and\n",
    "            # we can start driving again.\n",
    "            print('Start driving at %d' % self.env.now)\n",
    "            trip_duration = 2\n",
    "            yield self.env.timeout(trip_duration)\n",
    "\n",
    "    def charge(self, duration):\n",
    "        yield self.env.timeout(duration)"
   ]
  },
  {
   "cell_type": "code",
   "execution_count": 21,
   "id": "829996ba",
   "metadata": {},
   "outputs": [
    {
     "name": "stdout",
     "output_type": "stream",
     "text": [
      "Start parking and charging at 0\n",
      "Start driving at 5\n",
      "Start parking and charging at 7\n",
      "Start driving at 12\n",
      "Start parking and charging at 14\n"
     ]
    }
   ],
   "source": [
    "env = simpy.Environment()\n",
    "car = Car(env)\n",
    "env.run(until=15)"
   ]
  },
  {
   "cell_type": "code",
   "execution_count": 26,
   "id": "165e1399",
   "metadata": {},
   "outputs": [],
   "source": [
    "def driver(env,car):\n",
    "    yield env.timeout(3)\n",
    "    car.action.interrupt()"
   ]
  },
  {
   "cell_type": "code",
   "execution_count": 27,
   "id": "d0887f3a",
   "metadata": {},
   "outputs": [],
   "source": [
    "class Car(object):\n",
    "    def __init__(self, env):\n",
    "        self.env = env\n",
    "        self.action = env.process(self.run())\n",
    "\n",
    "    def run(self):\n",
    "        while True:\n",
    "            print('Start parking and charging at %d' % self.env.now)\n",
    "            charge_duration = 5\n",
    "            # We may get interrupted while charging the battery\n",
    "            try:\n",
    "                yield self.env.process(self.charge(charge_duration))\n",
    "            except simpy.Interrupt:\n",
    "                # When we received an interrupt, we stop charging and\n",
    "                # switch to the \"driving\" state\n",
    "                print('Was interrupted. Hope, the battery is full enough ...')\n",
    "\n",
    "            print('Start driving at %d' % self.env.now)\n",
    "            trip_duration = 2\n",
    "            yield self.env.timeout(trip_duration)\n",
    "\n",
    "    def charge(self, duration):\n",
    "        yield self.env.timeout(duration)"
   ]
  },
  {
   "cell_type": "code",
   "execution_count": 28,
   "id": "6aed28e0",
   "metadata": {},
   "outputs": [
    {
     "data": {
      "text/plain": [
       "<Process(driver) object at 0x7fb68155bf90>"
      ]
     },
     "execution_count": 28,
     "metadata": {},
     "output_type": "execute_result"
    }
   ],
   "source": [
    "env = simpy.Environment()\n",
    "car = Car(env)\n",
    "env.process(driver(env,car))"
   ]
  },
  {
   "cell_type": "code",
   "execution_count": 29,
   "id": "0bb6da13",
   "metadata": {},
   "outputs": [
    {
     "name": "stdout",
     "output_type": "stream",
     "text": [
      "Start parking and charging at 0\n",
      "Was interrupted. Hope, the battery is full enough ...\n",
      "Start driving at 3\n",
      "Start parking and charging at 5\n",
      "Start driving at 10\n",
      "Start parking and charging at 12\n"
     ]
    }
   ],
   "source": [
    "env.run(until=15)"
   ]
  },
  {
   "cell_type": "code",
   "execution_count": 30,
   "id": "2ef23f88",
   "metadata": {},
   "outputs": [],
   "source": [
    "def car(env, name, bcs, driving_time, charge_duration):\n",
    "    # Simulate driving to the BCS\n",
    "    yield env.timeout(driving_time)\n",
    "\n",
    "    # Request one of its charging spots\n",
    "    print('%s arriving at %d' % (name, env.now))\n",
    "    with bcs.request() as req:\n",
    "        yield req\n",
    "\n",
    "        # Charge the battery\n",
    "        print('%s starting to charge at %s' % (name, env.now))\n",
    "        yield env.timeout(charge_duration)\n",
    "        print('%s leaving the bcs at %s' % (name, env.now))"
   ]
  },
  {
   "cell_type": "code",
   "execution_count": 31,
   "id": "e24e70db",
   "metadata": {},
   "outputs": [],
   "source": [
    "env = simpy.Environment()\n",
    "bcs = simpy.Resource(env, capacity=2)"
   ]
  },
  {
   "cell_type": "code",
   "execution_count": 33,
   "id": "3745fcbc",
   "metadata": {},
   "outputs": [],
   "source": [
    "for i in range(4):\n",
    "    env.process(car(env, 'car %d' % i, bcs, i*2,5))"
   ]
  },
  {
   "cell_type": "code",
   "execution_count": 34,
   "id": "fc4eafbf",
   "metadata": {},
   "outputs": [
    {
     "name": "stdout",
     "output_type": "stream",
     "text": [
      "car 0 arriving at 0\n",
      "car 0 starting to charge at 0\n",
      "car 1 arriving at 2\n",
      "car 1 starting to charge at 2\n",
      "car 2 arriving at 4\n",
      "car 0 leaving the bcs at 5\n",
      "car 2 starting to charge at 5\n",
      "car 3 arriving at 6\n",
      "car 1 leaving the bcs at 7\n",
      "car 3 starting to charge at 7\n",
      "car 2 leaving the bcs at 10\n",
      "car 3 leaving the bcs at 12\n"
     ]
    }
   ],
   "source": [
    "env.run()"
   ]
  },
  {
   "cell_type": "code",
   "execution_count": 35,
   "id": "e7796484",
   "metadata": {},
   "outputs": [
    {
     "name": "stdout",
     "output_type": "stream",
     "text": [
      "Carwash\n",
      "Check out http://youtu.be/fXXmeP9TvBg while simulating ... ;-)\n",
      "Car 0 arrives at the carwash at 0.00.\n",
      "Car 1 arrives at the carwash at 0.00.\n",
      "Car 2 arrives at the carwash at 0.00.\n",
      "Car 3 arrives at the carwash at 0.00.\n",
      "Car 0 enters the carwash at 0.00.\n",
      "Car 1 enters the carwash at 0.00.\n",
      "Car 4 arrives at the carwash at 5.00.\n",
      "Carwash removed 97% of Car 0's dirt.\n",
      "Carwash removed 67% of Car 1's dirt.\n",
      "Car 0 leaves the carwash at 5.00.\n",
      "Car 1 leaves the carwash at 5.00.\n",
      "Car 2 enters the carwash at 5.00.\n",
      "Car 3 enters the carwash at 5.00.\n",
      "Car 5 arrives at the carwash at 10.00.\n",
      "Carwash removed 64% of Car 2's dirt.\n",
      "Carwash removed 58% of Car 3's dirt.\n",
      "Car 2 leaves the carwash at 10.00.\n",
      "Car 3 leaves the carwash at 10.00.\n",
      "Car 4 enters the carwash at 10.00.\n",
      "Car 5 enters the carwash at 10.00.\n",
      "Carwash removed 97% of Car 4's dirt.\n",
      "Carwash removed 56% of Car 5's dirt.\n",
      "Car 4 leaves the carwash at 15.00.\n",
      "Car 5 leaves the carwash at 15.00.\n",
      "Car 6 arrives at the carwash at 16.00.\n",
      "Car 6 enters the carwash at 16.00.\n"
     ]
    }
   ],
   "source": [
    "\"\"\"\n",
    "Carwash example.\n",
    "\n",
    "Covers:\n",
    "\n",
    "- Waiting for other processes\n",
    "- Resources: Resource\n",
    "\n",
    "Scenario:\n",
    "  A carwash has a limited number of washing machines and defines\n",
    "  a washing processes that takes some (random) time.\n",
    "\n",
    "  Car processes arrive at the carwash at a random time. If one washing\n",
    "  machine is available, they start the washing process and wait for it\n",
    "  to finish. If not, they wait until they can use one.\n",
    "\n",
    "\"\"\"\n",
    "\n",
    "import itertools\n",
    "import random\n",
    "\n",
    "import simpy\n",
    "\n",
    "# fmt: off\n",
    "RANDOM_SEED = 42\n",
    "NUM_MACHINES = 2  # Number of machines in the carwash\n",
    "WASHTIME = 5      # Minutes it takes to clean a car\n",
    "T_INTER = 7       # Create a car every ~7 minutes\n",
    "SIM_TIME = 20     # Simulation time in minutes\n",
    "# fmt: on\n",
    "\n",
    "\n",
    "class Carwash:\n",
    "    \"\"\"A carwash has a limited number of machines (``NUM_MACHINES``) to\n",
    "    clean cars in parallel.\n",
    "\n",
    "    Cars have to request one of the machines. When they got one, they\n",
    "    can start the washing processes and wait for it to finish (which\n",
    "    takes ``washtime`` minutes).\n",
    "\n",
    "    \"\"\"\n",
    "\n",
    "    def __init__(self, env, num_machines, washtime):\n",
    "        self.env = env\n",
    "        self.machine = simpy.Resource(env, num_machines)\n",
    "        self.washtime = washtime\n",
    "\n",
    "    def wash(self, car):\n",
    "        \"\"\"The washing processes. It takes a ``car`` processes and tries\n",
    "        to clean it.\"\"\"\n",
    "        yield self.env.timeout(self.washtime)\n",
    "        pct_dirt = random.randint(50, 99)\n",
    "        print(f\"Carwash removed {pct_dirt}% of {car}'s dirt.\")\n",
    "\n",
    "\n",
    "def car(env, name, cw):\n",
    "    \"\"\"The car process (each car has a ``name``) arrives at the carwash\n",
    "    (``cw``) and requests a cleaning machine.\n",
    "\n",
    "    It then starts the washing process, waits for it to finish and\n",
    "    leaves to never come back ...\n",
    "\n",
    "    \"\"\"\n",
    "    print(f'{name} arrives at the carwash at {env.now:.2f}.')\n",
    "    with cw.machine.request() as request:\n",
    "        yield request\n",
    "\n",
    "        print(f'{name} enters the carwash at {env.now:.2f}.')\n",
    "        yield env.process(cw.wash(name))\n",
    "\n",
    "        print(f'{name} leaves the carwash at {env.now:.2f}.')\n",
    "\n",
    "\n",
    "def setup(env, num_machines, washtime, t_inter):\n",
    "    \"\"\"Create a carwash, a number of initial cars and keep creating cars\n",
    "    approx. every ``t_inter`` minutes.\"\"\"\n",
    "    # Create the carwash\n",
    "    carwash = Carwash(env, num_machines, washtime)\n",
    "\n",
    "    car_count = itertools.count()\n",
    "\n",
    "    # Create 4 initial cars\n",
    "    for _ in range(4):\n",
    "        env.process(car(env, f'Car {next(car_count)}', carwash))\n",
    "\n",
    "    # Create more cars while the simulation is running\n",
    "    while True:\n",
    "        yield env.timeout(random.randint(t_inter - 2, t_inter + 2))\n",
    "        env.process(car(env, f'Car {next(car_count)}', carwash))\n",
    "\n",
    "\n",
    "# Setup and start the simulation\n",
    "print('Carwash')\n",
    "print('Check out http://youtu.be/fXXmeP9TvBg while simulating ... ;-)')\n",
    "random.seed(RANDOM_SEED)  # This helps to reproduce the results\n",
    "\n",
    "# Create an environment and start the setup process\n",
    "env = simpy.Environment()\n",
    "env.process(setup(env, NUM_MACHINES, WASHTIME, T_INTER))\n",
    "\n",
    "# Execute!\n",
    "env.run(until=SIM_TIME)"
   ]
  },
  {
   "cell_type": "code",
   "execution_count": 36,
   "id": "9d2dbea3",
   "metadata": {},
   "outputs": [
    {
     "name": "stdout",
     "output_type": "stream",
     "text": [
      "checkout https://simpy.readthedocs.io/en/latest/examples/carwash.html\n"
     ]
    }
   ],
   "source": [
    "print('checkout https://simpy.readthedocs.io/en/latest/examples/carwash.html')"
   ]
  },
  {
   "cell_type": "code",
   "execution_count": null,
   "id": "de381e62",
   "metadata": {},
   "outputs": [],
   "source": []
  }
 ],
 "metadata": {
  "kernelspec": {
   "display_name": "Python 3 (ipykernel)",
   "language": "python",
   "name": "python3"
  },
  "language_info": {
   "codemirror_mode": {
    "name": "ipython",
    "version": 3
   },
   "file_extension": ".py",
   "mimetype": "text/x-python",
   "name": "python",
   "nbconvert_exporter": "python",
   "pygments_lexer": "ipython3",
   "version": "3.7.16"
  }
 },
 "nbformat": 4,
 "nbformat_minor": 5
}
